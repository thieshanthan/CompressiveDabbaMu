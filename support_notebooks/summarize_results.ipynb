{
 "cells": [
  {
   "cell_type": "code",
   "execution_count": 3,
   "metadata": {},
   "outputs": [],
   "source": [
    "%load_ext autoreload\n",
    "%autoreload 2"
   ]
  },
  {
   "cell_type": "code",
   "execution_count": 4,
   "metadata": {},
   "outputs": [],
   "source": [
    "dict_img_position = {\n",
    "    'main':[0, 200],\n",
    "    'ht':[200, 650],\n",
    "    'loss':[650, 920],\n",
    "    'overall_results':[930, 1150]}"
   ]
  },
  {
   "cell_type": "code",
   "execution_count": 5,
   "metadata": {},
   "outputs": [],
   "source": [
    "import glob\n",
    "\n",
    "from modules.summarizing_utils.common_filter_results_methods import get_img_list\n",
    "from modules.summarizing_utils.filter_results_utils import get_available_attr\n",
    "from modules.summarizing_utils.filter_results_utils import filter_results\n",
    "\n",
    "from modules.summarizing_utils.save_imgs import save_imgs2pdf\n",
    "from modules.summarizing_utils.sorting_methods import sort_by_attr_values\n",
    "\n",
    "from modules.summarizing_utils.heatmaps import get_override_dict_list\n",
    "from modules.summarizing_utils.heatmaps import quantitative_results_HEATMAPS"
   ]
  },
  {
   "cell_type": "markdown",
   "metadata": {},
   "source": [
    "## Obtain attribute dictionary"
   ]
  },
  {
   "cell_type": "code",
   "execution_count": null,
   "metadata": {},
   "outputs": [],
   "source": [
    "modes = ['L1Loss', 'MSE', 'SSIM', 'SSIM11', 'SSIM5', 'last_converged']\n",
    "interested_modes = ['L1Loss', 'MSE', 'SSIM5', 'SSIM11']\n",
    "\n",
    "exp_set_dir = './figs/sample_exp'\n",
    "\n",
    "for dir_ in glob.glob(f'{exp_set_dir}/*'):\n",
    "    if dir_.split('/')[-1]=='heatmaps' or dir_.split('/')[-1]=='_results_summaries':continue\n",
    "    for img_dir in glob.glob(f'{dir_}/*.jpg'):\n",
    "        if '150_' in img_dir:break\n",
    "    else:\n",
    "        print(f'Incompleted exp : {dir_}')\n",
    "else:\n",
    "    print('All exps are completed')\n",
    "print('\\n\\n')\n",
    "\n",
    "mode= interested_modes[0]\n",
    "img_list = get_img_list(img_dir = exp_set_dir, mode=mode)\n",
    "print('img_list length : ', len(img_list))\n",
    "dict_ = get_available_attr(img_list)\n",
    "interested_imgs = filter_results(img_list, dict_)\n",
    "print(f'available keys : {list(dict_img_position.keys())}')\n",
    "\n",
    "print(dict_)"
   ]
  },
  {
   "cell_type": "markdown",
   "metadata": {},
   "source": [
    "## Save qualitative results and Quantitative results (HEATMAPS) to PDF"
   ]
  },
  {
   "cell_type": "code",
   "execution_count": 8,
   "metadata": {},
   "outputs": [],
   "source": [
    "def save_HEATMAPS(mode, img_list, exp_set_dir= None): ## CHANGE THIS \n",
    "    print(mode)    \n",
    "    plot_vars_dict ={\n",
    "                     'T': ['1', '2', '4', '8', '16', '32'], \n",
    "                     'lambda_scale_factor': ['1', '2', '3', '4', '5', '6', '7']\n",
    "    }\n",
    "\n",
    "    all_overrides_dict = {'rotation_lambda': ['10.0', '10000.0'],\n",
    "                          'img_size': ['256'],\n",
    "                          'num_samples_train': ['3000']}\n",
    "    \n",
    "    plot_label_dict= None #skip notation: 'SKIPZE100S1' if needed\n",
    "    low_lr_H, high_lr_H= '0.0', '1.0'\n",
    "\n",
    "    '''\n",
    "    plot_vars_dict = {\n",
    "         'interested_attr1': ['name11', 'name12'],\n",
    "         'interested_attr2': ['name21', 'name22']}\n",
    "    \n",
    "    all_overrides_dict = {'attr1': ['val11', 'val12'],\n",
    "                          'attr2': ['val21', 'val22'] }\n",
    "    \n",
    "    plot_label_dict= {'interested_attr1': ['name11', 'name12'],\n",
    "                 'interested_attr2': ['name21', 'name22']}\n",
    "    '''\n",
    "    \n",
    "    overrides_dict_list = get_override_dict_list(all_overrides_dict) ## obtain all combinations of override dicts\n",
    "    quantitative_results_HEATMAPS(img_list, plot_vars_dict, overrides_dict_list, mode, save_dir = exp_set_dir, low_lr_H= low_lr_H, high_lr_H= high_lr_H, show_interested_img_names= False, plot_label_dict= plot_label_dict)"
   ]
  },
  {
   "cell_type": "code",
   "execution_count": null,
   "metadata": {},
   "outputs": [],
   "source": [
    "import shutil, os\n",
    "\n",
    "try:shutil.rmtree(f'{exp_set_dir}/_results_summaries')\n",
    "except:pass\n",
    "\n",
    "try:shutil.rmtree(f'{exp_set_dir}/heatmaps')\n",
    "except:pass\n",
    "\n",
    "os.mkdir(f'{exp_set_dir}/_results_summaries')\n",
    "\n",
    "for mode in ['MSE', 'SSIM11']:#, 'last_converged_MSE']:#interested_modes:\n",
    "    img_list = get_img_list(img_dir = exp_set_dir, mode=mode)\n",
    "    print('img_list length : ', len(img_list))\n",
    "\n",
    "    dict_ = get_available_attr(img_list)\n",
    "    interested_imgs = filter_results(img_list, dict_)\n",
    "    print(f'available keys : {list(dict_img_position.keys())}')\n",
    "\n",
    "    exp_set_dir_name= exp_set_dir.split('/')[-1]\n",
    "    img_pdf_filename = f'{exp_set_dir}/_results_summaries/results_{mode}_{exp_set_dir_name}.pdf'\n",
    "    save_imgs2pdf(interested_imgs, sorting_function= sort_by_attr_values, pdf_filename=img_pdf_filename, attr_dict= dict_)\n",
    "    print(f'qualitative results saved : {img_pdf_filename}')\n",
    "    \n",
    "    ## ABOVE attr_dict_highlrH, attr_dict_lowlrH -> ONLY CONTAIN KEYS: lr_H, interested_key1, interested_key2 || Other keys -> goes into override dicts !!!\n",
    "    \n",
    "    save_HEATMAPS(mode, img_list, exp_set_dir)"
   ]
  }
 ],
 "metadata": {
  "kernelspec": {
   "display_name": "deepTFM",
   "language": "python",
   "name": "deeptfm"
  },
  "language_info": {
   "codemirror_mode": {
    "name": "ipython",
    "version": 3
   },
   "file_extension": ".py",
   "mimetype": "text/x-python",
   "name": "python",
   "nbconvert_exporter": "python",
   "pygments_lexer": "ipython3",
   "version": "3.6.12"
  }
 },
 "nbformat": 4,
 "nbformat_minor": 4
}
